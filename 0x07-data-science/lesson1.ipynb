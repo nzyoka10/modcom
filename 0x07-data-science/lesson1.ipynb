{
 "cells": [
  {
   "cell_type": "code",
   "execution_count": 6,
   "metadata": {},
   "outputs": [
    {
     "name": "stdout",
     "output_type": "stream",
     "text": [
      "      Loan_ID  Gender Married     Education Self_Employed  ApplicantIncome  \\\n",
      "0    LP001002    Male      No      Graduate            No             5849   \n",
      "1    LP001003    Male     Yes      Graduate            No             4583   \n",
      "2    LP001005    Male     Yes      Graduate           Yes             3000   \n",
      "3    LP001006    Male     Yes  Not Graduate            No             2583   \n",
      "4    LP001008    Male      No      Graduate            No             6000   \n",
      "..        ...     ...     ...           ...           ...              ...   \n",
      "609  LP002978  Female      No      Graduate            No             2900   \n",
      "610  LP002979    Male     Yes      Graduate            No             4106   \n",
      "611  LP002983    Male     Yes      Graduate            No             8072   \n",
      "612  LP002984    Male     Yes      Graduate            No             7583   \n",
      "613  LP002990  Female      No      Graduate           Yes             4583   \n",
      "\n",
      "     CoapplicantIncome  LoanAmount Property_Area Loan_Status  \n",
      "0                  0.0         NaN         Urban           Y  \n",
      "1               1508.0       128.0         Rural           N  \n",
      "2                  0.0        66.0         Urban           Y  \n",
      "3               2358.0       120.0         Urban           Y  \n",
      "4                  0.0       141.0         Urban           Y  \n",
      "..                 ...         ...           ...         ...  \n",
      "609                0.0        71.0         Rural           Y  \n",
      "610                0.0        40.0         Rural           Y  \n",
      "611              240.0       253.0         Urban           Y  \n",
      "612                0.0       187.0         Urban           Y  \n",
      "613                0.0       133.0     Semiurban           N  \n",
      "\n",
      "[614 rows x 10 columns]\n"
     ]
    }
   ],
   "source": [
    "import pandas\n",
    "\n",
    "# fetch data\n",
    "data = pandas.read_csv('data/bank.csv')\n",
    "\n",
    "# display results\n",
    "print(data)"
   ]
  },
  {
   "cell_type": "code",
   "execution_count": 10,
   "metadata": {},
   "outputs": [
    {
     "name": "stdout",
     "output_type": "stream",
     "text": [
      "      Loan_ID Gender Married     Education Self_Employed  ApplicantIncome  \\\n",
      "0    LP001002   Male      No      Graduate            No             5849   \n",
      "1    LP001003   Male     Yes      Graduate            No             4583   \n",
      "2    LP001005   Male     Yes      Graduate           Yes             3000   \n",
      "3    LP001006   Male     Yes  Not Graduate            No             2583   \n",
      "4    LP001008   Male      No      Graduate            No             6000   \n",
      "..        ...    ...     ...           ...           ...              ...   \n",
      "607  LP002964   Male     Yes  Not Graduate            No             3987   \n",
      "608  LP002974   Male     Yes      Graduate            No             3232   \n",
      "610  LP002979   Male     Yes      Graduate            No             4106   \n",
      "611  LP002983   Male     Yes      Graduate            No             8072   \n",
      "612  LP002984   Male     Yes      Graduate            No             7583   \n",
      "\n",
      "     CoapplicantIncome  LoanAmount Property_Area Loan_Status  \n",
      "0                  0.0         NaN         Urban           Y  \n",
      "1               1508.0       128.0         Rural           N  \n",
      "2                  0.0        66.0         Urban           Y  \n",
      "3               2358.0       120.0         Urban           Y  \n",
      "4                  0.0       141.0         Urban           Y  \n",
      "..                 ...         ...           ...         ...  \n",
      "607             1411.0       157.0         Rural           Y  \n",
      "608             1950.0       108.0         Rural           Y  \n",
      "610                0.0        40.0         Rural           Y  \n",
      "611              240.0       253.0         Urban           Y  \n",
      "612                0.0       187.0         Urban           Y  \n",
      "\n",
      "[489 rows x 10 columns]\n"
     ]
    }
   ],
   "source": [
    "# read all male gender \n",
    "# fetch data\n",
    "data = pandas.read_csv('data/bank.csv')\n",
    "\n",
    "df = pandas.DataFrame(data)\n",
    "males = df[df['Gender'] == 'Male']\n",
    "\n",
    "print(males)"
   ]
  },
  {
   "cell_type": "code",
   "execution_count": 11,
   "metadata": {},
   "outputs": [
    {
     "data": {
      "text/plain": [
       "0        Male\n",
       "1        Male\n",
       "2        Male\n",
       "3        Male\n",
       "4        Male\n",
       "        ...  \n",
       "609    Female\n",
       "610      Male\n",
       "611      Male\n",
       "612      Male\n",
       "613    Female\n",
       "Name: Gender, Length: 614, dtype: object"
      ]
     },
     "execution_count": 11,
     "metadata": {},
     "output_type": "execute_result"
    }
   ],
   "source": [
    "# get gender \n",
    "data[\"Gender\"]"
   ]
  },
  {
   "cell_type": "code",
   "execution_count": 12,
   "metadata": {},
   "outputs": [
    {
     "data": {
      "text/plain": [
       "0       No\n",
       "1      Yes\n",
       "2      Yes\n",
       "3      Yes\n",
       "4       No\n",
       "      ... \n",
       "609     No\n",
       "610    Yes\n",
       "611    Yes\n",
       "612    Yes\n",
       "613     No\n",
       "Name: Married, Length: 614, dtype: object"
      ]
     },
     "execution_count": 12,
     "metadata": {},
     "output_type": "execute_result"
    }
   ],
   "source": [
    "# get the marriage column\n",
    "data[\"Married\"]"
   ]
  },
  {
   "cell_type": "code",
   "execution_count": 13,
   "metadata": {},
   "outputs": [
    {
     "data": {
      "text/plain": [
       "0          Graduate\n",
       "1          Graduate\n",
       "2          Graduate\n",
       "3      Not Graduate\n",
       "4          Graduate\n",
       "           ...     \n",
       "609        Graduate\n",
       "610        Graduate\n",
       "611        Graduate\n",
       "612        Graduate\n",
       "613        Graduate\n",
       "Name: Education, Length: 614, dtype: object"
      ]
     },
     "execution_count": 13,
     "metadata": {},
     "output_type": "execute_result"
    }
   ],
   "source": [
    "# get column education\n",
    "data[\"Education\"]"
   ]
  }
 ],
 "metadata": {
  "kernelspec": {
   "display_name": "Python 3",
   "language": "python",
   "name": "python3"
  },
  "language_info": {
   "codemirror_mode": {
    "name": "ipython",
    "version": 3
   },
   "file_extension": ".py",
   "mimetype": "text/x-python",
   "name": "python",
   "nbconvert_exporter": "python",
   "pygments_lexer": "ipython3",
   "version": "3.12.2"
  }
 },
 "nbformat": 4,
 "nbformat_minor": 2
}
